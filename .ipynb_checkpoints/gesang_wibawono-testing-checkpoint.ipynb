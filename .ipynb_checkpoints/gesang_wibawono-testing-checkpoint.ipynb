{
 "cells": [
  {
   "cell_type": "code",
   "execution_count": 1,
   "metadata": {},
   "outputs": [],
   "source": [
    "import tensorflow as tf\n",
    "import pandas as pd\n",
    "import requests\n",
    "import json\n",
    "import base64"
   ]
  },
  {
   "cell_type": "code",
   "execution_count": 2,
   "metadata": {},
   "outputs": [],
   "source": [
    "df = pd.read_csv(\"news_articles.csv\")\n",
    "df = df.groupby(\"label\").apply(lambda s: s.sample(1)).reset_index(drop=True)"
   ]
  },
  {
   "cell_type": "code",
   "execution_count": 3,
   "metadata": {},
   "outputs": [
    {
     "data": {
      "text/plain": [
       "'and now i present the wedding rings :) simple but awesome :)   :o '"
      ]
     },
     "execution_count": 3,
     "metadata": {},
     "output_type": "execute_result"
    }
   ],
   "source": [
    "positive_tweet = df.query(\"label == 0\")[\"tweet\"][0]\n",
    "positive_tweet"
   ]
  },
  {
   "cell_type": "code",
   "execution_count": 4,
   "metadata": {},
   "outputs": [
    {
     "data": {
      "text/plain": [
       "'trump ny co-chair makes racist remarks about michelle obama  #p2 #p21 #fyi  #tcot'"
      ]
     },
     "execution_count": 4,
     "metadata": {},
     "output_type": "execute_result"
    }
   ],
   "source": [
    "negative_tweet = df.query(\"label == 1\")[\"tweet\"][1]\n",
    "negative_tweet"
   ]
  },
  {
   "cell_type": "code",
   "execution_count": 5,
   "metadata": {},
   "outputs": [],
   "source": [
    "def prepare_json(text):\n",
    "    feature_spec = {\n",
    "        \"tweet\": tf.train.Feature(bytes_list=tf.train.BytesList(value=[bytes(text, \"utf-8\")]))\n",
    "    }\n",
    "    \n",
    "    example = tf.train.Example(\n",
    "        features=tf.train.Features(feature=feature_spec)\n",
    "    ).SerializeToString()\n",
    "    \n",
    "    result = [\n",
    "        {\n",
    "            \"examples\": {\n",
    "                \"b64\": base64.b64encode(example).decode()\n",
    "            }\n",
    "        }\n",
    "    ]\n",
    "    \n",
    "    return json.dumps({\n",
    "        \"signature_name\": \"serving_default\",\n",
    "        \"instances\": result\n",
    "    })"
   ]
  },
  {
   "cell_type": "code",
   "execution_count": 9,
   "metadata": {},
   "outputs": [],
   "source": [
    "def make_predictions(text):\n",
    "    json_data = prepare_json(text)\n",
    "    \n",
    "    endpoint = \"https://sa-model-production.up.railway.app/v1/models/sentiment-analysis-model:predict\"\n",
    "    response = requests.post(endpoint, data=json_data)\n",
    "\n",
    "    prediction = response.json()[\"predictions\"][0][0]\n",
    "    return \"Negative\" if prediction > 0.5 else \"Positive\""
   ]
  },
  {
   "cell_type": "code",
   "execution_count": 10,
   "metadata": {},
   "outputs": [
    {
     "data": {
      "text/plain": [
       "'Positive'"
      ]
     },
     "execution_count": 10,
     "metadata": {},
     "output_type": "execute_result"
    }
   ],
   "source": [
    "make_predictions(positive_tweet)"
   ]
  },
  {
   "cell_type": "code",
   "execution_count": 8,
   "metadata": {},
   "outputs": [
    {
     "data": {
      "text/plain": [
       "'Negative'"
      ]
     },
     "execution_count": 8,
     "metadata": {},
     "output_type": "execute_result"
    }
   ],
   "source": [
    "make_predictions(negative_tweet)"
   ]
  },
  {
   "cell_type": "code",
   "execution_count": null,
   "metadata": {},
   "outputs": [],
   "source": []
  }
 ],
 "metadata": {
  "kernelspec": {
   "display_name": "Python 3 (ipykernel)",
   "language": "python",
   "name": "python3"
  },
  "language_info": {
   "codemirror_mode": {
    "name": "ipython",
    "version": 3
   },
   "file_extension": ".py",
   "mimetype": "text/x-python",
   "name": "python",
   "nbconvert_exporter": "python",
   "pygments_lexer": "ipython3",
   "version": "3.9.15"
  },
  "vscode": {
   "interpreter": {
    "hash": "805bae728bb13f21baf992c7feee8fce4774a98a979a4908e1d43eb5e2a0d81c"
   }
  }
 },
 "nbformat": 4,
 "nbformat_minor": 2
}
